{
 "cells": [
  {
   "cell_type": "code",
   "execution_count": 148,
   "id": "28133d91",
   "metadata": {},
   "outputs": [],
   "source": [
    "import openpyxl\n",
    "from openpyxl import Workbook, load_workbook #import workbook like this\n",
    "from openpyxl.styles import Border, Side, PatternFill, Font, GradientFill, Alignment\n",
    "from copy import copy"
   ]
  },
  {
   "cell_type": "code",
   "execution_count": 3,
   "id": "36b32f23",
   "metadata": {},
   "outputs": [
    {
     "data": {
      "text/plain": [
       "'Monthly_Reports_copy.xlsx'"
      ]
     },
     "execution_count": 3,
     "metadata": {},
     "output_type": "execute_result"
    }
   ],
   "source": [
    "import shutil\n",
    "\n",
    "# Define the paths for the original and copy files\n",
    "original_file_path = 'Monthly_Reports.xlsx'\n",
    "copy_file_path = 'Monthly_Reports_copy.xlsx'\n",
    "\n",
    "# Copy the original file to create a backup\n",
    "shutil.copy(original_file_path, copy_file_path)"
   ]
  },
  {
   "cell_type": "code",
   "execution_count": 10,
   "id": "37ff5bbc",
   "metadata": {},
   "outputs": [],
   "source": [
    "wb = load_workbook('Monthly_Reports_copy.xlsx')\n",
    "ws_followers = wb['Followers (OO)']\n"
   ]
  },
  {
   "cell_type": "code",
   "execution_count": 11,
   "id": "3a469007",
   "metadata": {},
   "outputs": [],
   "source": [
    "#insert empty rows\n",
    "ws_followers.insert_rows(1, amount=4)"
   ]
  },
  {
   "cell_type": "code",
   "execution_count": 12,
   "id": "9d860554",
   "metadata": {},
   "outputs": [],
   "source": [
    "wb.save('Monthly_Reports_copy.xlsx')"
   ]
  },
  {
   "cell_type": "code",
   "execution_count": 18,
   "id": "2a72b90d",
   "metadata": {},
   "outputs": [],
   "source": [
    "#Add Evil Geniuses title\n",
    "ws_followers['A3'].value='Evil Geniuses (O&O)'"
   ]
  },
  {
   "cell_type": "code",
   "execution_count": 20,
   "id": "612dd848",
   "metadata": {},
   "outputs": [],
   "source": [
    "#create list of quarter names\n",
    "# Define the merged cell ranges\n",
    "cells = ['B4:D4', 'E4:G4', 'H4:J4', 'K4:M4','N4:P4']\n",
    "\n",
    "# Define the list of quarter names\n",
    "quarters = ['Q4 2022', 'Q1 2023', 'Q2 2023', 'Q3 2023','Q4 2023']  # Add more quarters as needed\n",
    "\n",
    "# Loop through the cell ranges and assign quarter names\n",
    "for i, cell in enumerate(cells):\n",
    "    ws_followers.merge_cells(cell)\n",
    "    cell_value = ws_followers.cell(row=4, column=2 + i * 3)\n",
    "    cell_value.value = quarters[i]\n",
    "    cell_value.alignment = Alignment(horizontal='center', vertical='center')\n",
    "    cell_value.font=Font(size=12, bold=True,color=\"ffffff\")\n",
    "    cell_value.fill=PatternFill(start_color='000000', end_color='000000', fill_type='solid')\n",
    "    "
   ]
  },
  {
   "cell_type": "code",
   "execution_count": 56,
   "id": "f1b65d6a",
   "metadata": {},
   "outputs": [],
   "source": [
    "#entire first column bold\n",
    "for row in ws_followers.iter_rows(min_row=1, max_row=ws_followers.max_row, min_col=1, max_col=1):\n",
    "    for cell in row:\n",
    "        cell.font = Font(bold=True)\n",
    "        \n",
    "#fill title and quarters cell with color\n",
    "for row in range(4, 6):  # Rows 4 and 5\n",
    "    cell = ws_followers.cell(row=row, column=1)  # Column A\n",
    "    cell.fill = PatternFill(start_color='93b6ea', end_color='93b6ea', fill_type='solid')\n",
    "    \n",
    "for col in range(1, ws_followers.max_column + 1):  # Column 0-15\n",
    "    cell = ws_followers.cell(row=3, column=col)  # Row 3\n",
    "    cell.fill = PatternFill(start_color='93b6ea', end_color='93b6ea', fill_type='solid')\n",
    "\n",
    "#bold month year\n",
    "for col in range(1, ws_followers.max_column + 1):  # Column 0-15\n",
    "    cell = ws_followers.cell(row=5, column=col)  # Row 3\n",
    "    cell.font = Font(size=10, bold=True)\n",
    "    cell.alignment = Alignment(horizontal='center',vertical='center')"
   ]
  },
  {
   "cell_type": "code",
   "execution_count": 26,
   "id": "aa8f79df",
   "metadata": {},
   "outputs": [],
   "source": [
    "# Save the workbook with updated values\n",
    "wb.save('Monthly_Reports_copy.xlsx')"
   ]
  },
  {
   "cell_type": "code",
   "execution_count": 29,
   "id": "44ac3a45",
   "metadata": {},
   "outputs": [],
   "source": [
    "#Delete value in A4 'Name'\n",
    "ws_followers['A5'].value=None"
   ]
  },
  {
   "cell_type": "code",
   "execution_count": 30,
   "id": "78f541b4",
   "metadata": {},
   "outputs": [],
   "source": [
    "#freeze first col\n",
    "ws_followers.freeze_panes = 'B1'"
   ]
  },
  {
   "cell_type": "code",
   "execution_count": 50,
   "id": "b2aec8de",
   "metadata": {},
   "outputs": [],
   "source": [
    "#add Total\n",
    "ws_followers['A20'].value='Total'\n",
    "ws_followers['A20'].font= Font(size=10,bold=True)\n",
    "ws_followers['A20'].border = Border(top=Side(style='medium'))\n",
    "\n",
    "#calculate total\n",
    "ws_followers['B51']='=SUM(B1:B50)'\n",
    "\n",
    "for col in range(2, ws_followers.max_column + 1):\n",
    "    column_letter = openpyxl.utils.get_column_letter(col)\n",
    "    \n",
    "    # Set the formula for row 20 of the current column\n",
    "    formula = f'=SUM({column_letter}6:{column_letter}19)'\n",
    "    ws_followers.cell(row=20, column=col, value=formula)\n",
    "    \n",
    "    # Add borders \n",
    "    ws_followers.cell(row=20, column=col).border = Border(top=Side(style='medium'))\n"
   ]
  },
  {
   "cell_type": "code",
   "execution_count": 52,
   "id": "d4d77000",
   "metadata": {},
   "outputs": [],
   "source": [
    "#Change col width\n",
    "for col in range(1, ws_followers.max_column + 1):\n",
    "    column_letter = openpyxl.utils.get_column_letter(col)\n",
    "    \n",
    "    max_length = max(len(str(cell.value)) for cell in ws_followers[column_letter] if cell.value)\n",
    "    ws_followers.column_dimensions[column_letter].width = max_length + 2"
   ]
  },
  {
   "cell_type": "code",
   "execution_count": null,
   "id": "da1f3014",
   "metadata": {},
   "outputs": [],
   "source": [
    "#change number format\n",
    "for row in ws_followers.iter_rows(min_row=6, max_row=ws_followers.max_row, min_col=2, max_col=ws_followers.max_column):\n",
    "    for cell in row:\n",
    "        cell.number_format = \"#,##0\" "
   ]
  },
  {
   "cell_type": "code",
   "execution_count": 57,
   "id": "d4ea27fb",
   "metadata": {},
   "outputs": [],
   "source": [
    "# Save the workbook with updated values\n",
    "wb.save('Monthly_Reports_copy.xlsx')"
   ]
  },
  {
   "cell_type": "code",
   "execution_count": 63,
   "id": "aa5c88d0",
   "metadata": {},
   "outputs": [],
   "source": [
    "wb.close()"
   ]
  },
  {
   "cell_type": "markdown",
   "id": "0bb2154e",
   "metadata": {},
   "source": [
    "## Create a function"
   ]
  },
  {
   "cell_type": "code",
   "execution_count": 165,
   "id": "0d4684aa",
   "metadata": {},
   "outputs": [],
   "source": [
    "#for follower sheet\n",
    "#standard format\n",
    "def excel_format(ws):\n",
    "    #insert empty rows\n",
    "    ws.insert_rows(1, amount=4)\n",
    "    \n",
    "    #Add Evil Geniuses title\n",
    "    if ws.title == 'Followers (Total Page - EG Enti':\n",
    "        ws['A3'].value='EG Related Entities'\n",
    "    else:\n",
    "        ws['A3'].value='Evil Geniuses (O&O)'\n",
    "\n",
    "    \n",
    "    #create list of quarter names\n",
    "    # Define the merged cell ranges\n",
    "    cells = ['B4:D4', 'E4:G4', 'H4:J4', 'K4:M4','N4:P4']\n",
    "\n",
    "    # Define the list of quarter names\n",
    "    quarters = ['Q4 2022', 'Q1 2023', 'Q2 2023', 'Q3 2023','Q4 2023']  # Add more quarters as needed\n",
    "\n",
    "    # Loop through the cell ranges and assign quarter names\n",
    "    for i, cell in enumerate(cells):\n",
    "        ws.merge_cells(cell)\n",
    "        cell_value = ws.cell(row=4, column=2 + i * 3)\n",
    "        cell_value.value = quarters[i]\n",
    "        cell_value.alignment = Alignment(horizontal='center', vertical='center')\n",
    "        cell_value.font=Font(size=12, bold=True,color=\"ffffff\")\n",
    "        cell_value.fill=PatternFill(start_color='000000', end_color='000000', fill_type='solid')\n",
    "\n",
    "    #entire first column bold\n",
    "    for row in ws.iter_rows(min_row=1, max_row=ws.max_row, min_col=1, max_col=1):\n",
    "        for cell in row:\n",
    "            cell.font = Font(bold=True)\n",
    "\n",
    "    #fill title and quarters cell with color\n",
    "    for row in range(4, 6):  # Rows 4 and 5\n",
    "        cell = ws.cell(row=row, column=1)  # Column A\n",
    "        cell.fill = PatternFill(start_color='93b6ea', end_color='93b6ea', fill_type='solid')\n",
    "\n",
    "    for col in range(1, ws.max_column + 1):  # Column 0-15\n",
    "        cell = ws.cell(row=3, column=col)  # Row 3\n",
    "        cell.fill = PatternFill(start_color='93b6ea', end_color='93b6ea', fill_type='solid')\n",
    "\n",
    "    #bold month year\n",
    "    for col in range(1, ws.max_column + 1):  # Column 0-15\n",
    "        cell = ws.cell(row=5, column=col)  # Row 3\n",
    "        cell.font = Font(size=10, bold=True)\n",
    "        cell.alignment = Alignment(horizontal='center',vertical='center')\n",
    "\n",
    "    max_row=ws.max_row\n",
    "    #calculate total\n",
    "    for col in range(2, max_row + 1):\n",
    "        column_letter = openpyxl.utils.get_column_letter(col)\n",
    "\n",
    "        # Set the formula for row 20 of the current column\n",
    "        formula = f'=SUM({column_letter}6:{column_letter}{max_row})'\n",
    "        ws.cell(row=max_row+1, column=col, value=formula)\n",
    "\n",
    "        # Add borders \n",
    "        ws.cell(row=max_row+1, column=col).border = Border(top=Side(style='medium'))\n",
    "        \n",
    "    #add Total\n",
    "    cell = ws.cell(row=ws.max_row, column=1)\n",
    "    cell.value = 'Total'\n",
    "    cell.font= Font(size=10,bold=True)\n",
    "    cell.border = Border(top=Side(style='medium'))\n",
    "    \n",
    "    \n",
    "    #Change col width\n",
    "    for col in range(1, ws.max_column + 1):\n",
    "        column_letter = openpyxl.utils.get_column_letter(col)\n",
    "        max_length = max(len(str(cell.value)) for cell in ws[column_letter] if cell.value)\n",
    "        ws.column_dimensions[column_letter].width = max_length + 2\n",
    "\n",
    "    #change number format\n",
    "    for row in ws.iter_rows(min_row=6, max_row=ws.max_row, min_col=2, max_col=ws.max_column):\n",
    "        for cell in row:\n",
    "            cell.number_format = \"#,##0\" \n",
    "\n",
    "    #Delete value in A4 'Name'\n",
    "    ws['A5'].value=None\n",
    "    \n",
    "    #freeze first col\n",
    "    ws.freeze_panes = 'B1'\n",
    "    \n",
    "    #change title font size\n",
    "    ws['A3'].font= Font(size=12, bold=True)\n",
    "    "
   ]
  },
  {
   "cell_type": "code",
   "execution_count": 166,
   "id": "7b93995d",
   "metadata": {},
   "outputs": [],
   "source": [
    "# Load the workbook\n",
    "wb = openpyxl.load_workbook('Monthly_Reports_test.xlsx')\n",
    "\n",
    "# Get a list of all worksheet names in the workbook\n",
    "worksheet_names = wb.sheetnames\n",
    "\n",
    "#apply function to all worksheet\n",
    "for sheet_name in wb.sheetnames[1:3]:\n",
    "    ws = wb[sheet_name]\n",
    "    excel_format(ws)\n",
    "    \n",
    "wb.save('Monthly_Reports_test.xlsx')"
   ]
  },
  {
   "cell_type": "code",
   "execution_count": 167,
   "id": "ac613dbf",
   "metadata": {},
   "outputs": [],
   "source": [
    "#for other sheets\n",
    "def excel_format2(ws):\n",
    "    #insert empty rows\n",
    "    ws.insert_rows(1, amount=3)\n",
    "    \n",
    "    #move cell value from A4 to A3\n",
    "    ws.move_range('A4',rows=-1,cols=0)\n",
    "    \n",
    "    #format Quarters row\n",
    "    for col in range(2, ws.max_column + 1):  \n",
    "        cell_value = ws.cell(row=4, column=col)\n",
    "        cell_value.alignment = Alignment(horizontal='center', vertical='center')\n",
    "        cell_value.font=Font(size=12, bold=True,color=\"ffffff\")\n",
    "        cell_value.fill=PatternFill(start_color='000000', end_color='000000', fill_type='solid')\n",
    "\n",
    "    #entire first column bold\n",
    "    for row in ws.iter_rows(min_row=1, max_row=ws.max_row, min_col=1, max_col=1):\n",
    "        for cell in row:\n",
    "            cell.font = Font(bold=True)\n",
    "\n",
    "    #fill title and quarters cell with color\n",
    "    #empty spaces\n",
    "    for row in range(4, 6):  # Rows 4 and 5\n",
    "        cell = ws.cell(row=row, column=1)  # Column A\n",
    "        cell.fill = PatternFill(start_color='93b6ea', end_color='93b6ea', fill_type='solid')\n",
    "    #title spaces\n",
    "    for col in range(1, ws.max_column + 1):  # Column 0-15\n",
    "        cell = ws.cell(row=3, column=col)  # Row 3\n",
    "        cell.fill = PatternFill(start_color='93b6ea', end_color='93b6ea', fill_type='solid')\n",
    "    #bold month year\n",
    "    for col in range(1, ws.max_column + 1):  # Column 0-15\n",
    "        cell = ws.cell(row=5, column=col)  # Row 3\n",
    "        cell.font = Font(size=10, bold=True)\n",
    "        cell.alignment = Alignment(horizontal='center',vertical='center')\n",
    "\n",
    "    max_row=ws.max_row\n",
    "    #calculate total\n",
    "    for col in range(2, ws.max_column + 1):\n",
    "        column_letter = openpyxl.utils.get_column_letter(col)\n",
    "\n",
    "        # Set the formula for row 20 of the current column\n",
    "        formula = f'=SUM({column_letter}6:{column_letter}{max_row})'\n",
    "        ws.cell(row=max_row+1, column=col, value=formula)\n",
    "\n",
    "        # Add borders \n",
    "        ws.cell(row=max_row+1, column=col).border = Border(top=Side(style='medium'))\n",
    "        \n",
    "    #add Total\n",
    "    cell = ws.cell(row=ws.max_row, column=1)\n",
    "    cell.value = 'Total'\n",
    "    cell.font= Font(size=10,bold=True)\n",
    "    cell.border = Border(top=Side(style='medium'))\n",
    "    \n",
    "    #Change col width\n",
    "    for col in range(1, ws.max_column + 1):\n",
    "        column_letter = openpyxl.utils.get_column_letter(col)\n",
    "        max_length = max(len(str(cell.value)) for cell in ws[column_letter] if cell.value)\n",
    "        ws.column_dimensions[column_letter].width = max_length + 2\n",
    "\n",
    "    #change number format\n",
    "    for row in ws.iter_rows(min_row=6, max_row=ws.max_row, min_col=2, max_col=ws.max_column):\n",
    "        for cell in row:\n",
    "            if ws.title == 'Engagement Rate (O&O)':\n",
    "                # If the worksheet name is 'Engagement Rates', set the format to percentage\n",
    "                cell.number_format = '0.00%'\n",
    "            else:\n",
    "                # For other worksheets, set the format to \"#,##0\"\n",
    "                cell.number_format = \"#,##0\"\n",
    "\n",
    "    #Delete value in A4 'Name'\n",
    "    ws['A5'].value=None\n",
    "    \n",
    "    #freeze first col\n",
    "    ws.freeze_panes = 'B1'\n",
    "    \n",
    "    #change title font size\n",
    "    ws['A3'].font= Font(size=12, bold=True)\n",
    "    "
   ]
  },
  {
   "cell_type": "code",
   "execution_count": 168,
   "id": "03deab3f",
   "metadata": {},
   "outputs": [],
   "source": [
    "#apply function to all worksheet\n",
    "for sheet_name in worksheet_names[3:11]:\n",
    "    ws = wb[sheet_name]\n",
    "    excel_format2(ws)\n",
    "    \n",
    "wb.save('Monthly_Reports_test.xlsx')"
   ]
  },
  {
   "cell_type": "code",
   "execution_count": 169,
   "id": "5c134b8e",
   "metadata": {},
   "outputs": [
    {
     "data": {
      "text/plain": [
       "<Worksheet \"Totals Page\">"
      ]
     },
     "execution_count": 169,
     "metadata": {},
     "output_type": "execute_result"
    }
   ],
   "source": [
    "#creat new total worksheet\n",
    "\n",
    "wb.create_sheet('Totals Page')\n",
    "\n"
   ]
  },
  {
   "cell_type": "code",
   "execution_count": 170,
   "id": "48fff81c",
   "metadata": {},
   "outputs": [],
   "source": [
    "wb.save('Monthly_Reports_test.xlsx')"
   ]
  },
  {
   "cell_type": "code",
   "execution_count": null,
   "id": "9161183c",
   "metadata": {},
   "outputs": [],
   "source": [
    "list =[under_30 if i <= 30 else above_30 if for i in dealer['age'] ]\n",
    "\n",
    "[above_30 for i in dealer['age'] if i <= 30 else under_30]"
   ]
  },
  {
   "cell_type": "code",
   "execution_count": null,
   "id": "ffdccba8",
   "metadata": {},
   "outputs": [],
   "source": [
    "under_30=[]\n",
    "above_30=[]\n",
    "for i in dealer['age']:\n",
    "    if i <= 30:\n",
    "        under_30\n",
    "    else:\n",
    "        above_30"
   ]
  }
 ],
 "metadata": {
  "kernelspec": {
   "display_name": "Python 3 (ipykernel)",
   "language": "python",
   "name": "python3"
  },
  "language_info": {
   "codemirror_mode": {
    "name": "ipython",
    "version": 3
   },
   "file_extension": ".py",
   "mimetype": "text/x-python",
   "name": "python",
   "nbconvert_exporter": "python",
   "pygments_lexer": "ipython3",
   "version": "3.9.12"
  }
 },
 "nbformat": 4,
 "nbformat_minor": 5
}
